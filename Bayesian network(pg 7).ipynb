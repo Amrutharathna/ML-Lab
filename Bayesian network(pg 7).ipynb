{
 "cells": [
  {
   "cell_type": "code",
   "execution_count": 1,
   "id": "79932f7a-dd5e-4eb1-aa1e-d5df784a29c2",
   "metadata": {},
   "outputs": [
    {
     "name": "stdout",
     "output_type": "stream",
     "text": [
      "\n",
      "\n"
     ]
    },
    {
     "name": "stdin",
     "output_type": "stream",
     "text": [
      "Enter Age: {'SuperSeniorCitizen': 0, 'SeniorCitizen': 1, 'MiddleAged': 2, 'Youth': 3, 'Teen': 4} 1\n",
      "Enter Gender: {'Male': 0, 'Female': 1} 1\n",
      "Enter FamilyHistory: {'Yes': 0, 'No': 1} 1\n",
      "Enter dietEnum: {'High': 0, 'Medium': 1, 'Low': 2} 0\n",
      "Enter LifeStyle: {'Athlete': 0, 'Active': 1, 'Moderate': 2, 'Sedetary': 3} 2\n",
      "Enter Cholesterol: {'High': 0, 'BorderLine': 1, 'Normal': 2} 1\n"
     ]
    },
    {
     "name": "stdout",
     "output_type": "stream",
     "text": [
      "Probability(HeartDisease) = 0.5\n"
     ]
    },
    {
     "name": "stdin",
     "output_type": "stream",
     "text": [
      "Enter for Continue:0, Exit :1   1\n"
     ]
    }
   ],
   "source": [
    "import bayespy as bp\n",
    "import numpy as np\n",
    "import csv \n",
    "from colorama import init\n",
    "from colorama import Fore, Back, Style\n",
    "init()\n",
    "\n",
    "ageEnum = {'SuperSeniorCitizen':0, 'SeniorCitizen':1, 'MiddleAged':2, 'Youth':3, 'Teen':4}\n",
    "genderEnum = {'Male':0, 'Female':1}\n",
    "familyHistoryEnum = {'Yes':0, 'No':1}\n",
    "dietEnum = {'High':0, 'Medium':1, 'Low':2}\n",
    "lifeStyleEnum = {'Athlete':0, 'Active':1, 'Moderate':2, 'Sedetary':3}\t\n",
    "cholesterolEnum = {'High':0, 'BorderLine':1, 'Normal':2}\n",
    "heartDiseaseEnum = {'Yes':0, 'No':1}\n",
    "\n",
    "with open('heart_disease_data.csv') as csvfile:\n",
    "    lines = csv.reader(csvfile)\n",
    "    dataset = list(lines)\n",
    "    data = []\n",
    "    for x in dataset:\t\n",
    "        data.append([ageEnum[x[0]],genderEnum[x[1]],familyHistoryEnum[x[2]],dietEnum[x[3]],lifeStyleEnum[x[4]],cholesterolEnum[x[5]],heartDiseaseEnum[x[6]]])\n",
    "data = np.array(data)\n",
    "N = len(data)\n",
    "\n",
    "p_age = bp.nodes.Dirichlet(1.0*np.ones(5))\n",
    "age = bp.nodes.Categorical(p_age, plates=(N,))\n",
    "age.observe(data[:,0])\n",
    "\n",
    "p_gender = bp.nodes.Dirichlet(1.0*np.ones(2))\n",
    "gender = bp.nodes.Categorical(p_gender, plates=(N,))\n",
    "gender.observe(data[:,1])\n",
    "\n",
    "p_familyhistory = bp.nodes.Dirichlet(1.0*np.ones(2))\n",
    "familyhistory = bp.nodes.Categorical(p_familyhistory, plates=(N,))\n",
    "familyhistory.observe(data[:,2])\n",
    "\n",
    "p_diet = bp.nodes.Dirichlet(1.0*np.ones(3))\n",
    "diet = bp.nodes.Categorical(p_diet, plates=(N,))\n",
    "diet.observe(data[:,3])\n",
    "\n",
    "p_lifestyle = bp.nodes.Dirichlet(1.0*np.ones(4))\n",
    "lifestyle = bp.nodes.Categorical(p_lifestyle, plates=(N,))\n",
    "lifestyle.observe(data[:,4])\n",
    "\n",
    "p_cholesterol = bp.nodes.Dirichlet(1.0*np.ones(3))\n",
    "cholesterol = bp.nodes.Categorical(p_cholesterol, plates=(N,))\n",
    "cholesterol.observe(data[:,5])\n",
    "\n",
    "p_heartdisease = bp.nodes.Dirichlet(np.ones(2), plates=(5, 2, 2, 3, 4, 3))\n",
    "heartdisease = bp.nodes.MultiMixture([age, gender, familyhistory, diet, lifestyle, cholesterol], bp.nodes.Categorical, p_heartdisease)\n",
    "heartdisease.observe(data[:,6])\n",
    "p_heartdisease.update()\n",
    "\n",
    "\n",
    "# Interactive Test \n",
    "m = 0\n",
    "while m == 0:\n",
    "    print(\"\\n\")\n",
    "    res = bp.nodes.MultiMixture([int(input('Enter Age: ' + str(ageEnum))), int(input('Enter Gender: ' + str(genderEnum))), int(input('Enter FamilyHistory: ' + str(familyHistoryEnum))), int(input('Enter dietEnum: ' + str(dietEnum))), int(input('Enter LifeStyle: ' + str(lifeStyleEnum))), int(input('Enter Cholesterol: ' + str(cholesterolEnum)))], bp.nodes.Categorical, p_heartdisease).get_moments()[0][heartDiseaseEnum['Yes']]\n",
    "    print(\"Probability(HeartDisease) = \" +  str(res))\n",
    "    #print(Style.RESET_ALL)\n",
    "    m = int(input(\"Enter for Continue:0, Exit :1  \"))\n"
   ]
  },
  {
   "cell_type": "code",
   "execution_count": 3,
   "id": "19082e9e-c9ed-467d-ae9f-c4717685caf9",
   "metadata": {},
   "outputs": [
    {
     "name": "stdout",
     "output_type": "stream",
     "text": [
      "Collecting bayespy\n",
      "  Downloading bayespy-0.6.2.tar.gz (405 kB)\n",
      "  Preparing metadata (setup.py): started\n",
      "  Preparing metadata (setup.py): finished with status 'done'\n",
      "Requirement already satisfied: numpy>=1.10.0 in c:\\users\\mr\\anaconda3\\lib\\site-packages (from bayespy) (1.26.4)\n",
      "Requirement already satisfied: scipy>=0.13.0 in c:\\users\\mr\\anaconda3\\lib\\site-packages (from bayespy) (1.13.1)\n",
      "Requirement already satisfied: h5py in c:\\users\\mr\\anaconda3\\lib\\site-packages (from bayespy) (3.11.0)\n",
      "Collecting truncnorm (from bayespy)\n",
      "  Downloading truncnorm-0.0.2.tar.gz (7.2 kB)\n",
      "  Preparing metadata (setup.py): started\n",
      "  Preparing metadata (setup.py): finished with status 'done'\n",
      "Building wheels for collected packages: bayespy, truncnorm\n",
      "  Building wheel for bayespy (setup.py): started\n",
      "  Building wheel for bayespy (setup.py): finished with status 'done'\n",
      "  Created wheel for bayespy: filename=bayespy-0.6.2-py3-none-any.whl size=377864 sha256=98101205a48dfb16858f31e5bb77d5b3c427ee9b6a2c146ae61f0a0d1ed7859f\n",
      "  Stored in directory: c:\\users\\mr\\appdata\\local\\pip\\cache\\wheels\\fd\\f4\\c9\\855b2cad9572c8bc808d1e5696ac249d8ab68ed6def557fe89\n",
      "  Building wheel for truncnorm (setup.py): started\n",
      "  Building wheel for truncnorm (setup.py): finished with status 'done'\n",
      "  Created wheel for truncnorm: filename=truncnorm-0.0.2-py3-none-any.whl size=6439 sha256=577a03d7e2eb07bde4ed8b8a5ba723addc6173cbd127a058de59e5816d5ce13c\n",
      "  Stored in directory: c:\\users\\mr\\appdata\\local\\pip\\cache\\wheels\\10\\1c\\ad\\db63f729fa48d378081e32d966d3525de87922b07e38415ce6\n",
      "Successfully built bayespy truncnorm\n",
      "Installing collected packages: truncnorm, bayespy\n",
      "Successfully installed bayespy-0.6.2 truncnorm-0.0.2\n"
     ]
    }
   ],
   "source": [
    "!pip install bayespy\n"
   ]
  },
  {
   "cell_type": "code",
   "execution_count": null,
   "id": "a1125cca-e147-4226-9083-1d50aef3a6d9",
   "metadata": {},
   "outputs": [],
   "source": []
  }
 ],
 "metadata": {
  "kernelspec": {
   "display_name": "Python [conda env:base] *",
   "language": "python",
   "name": "conda-base-py"
  },
  "language_info": {
   "codemirror_mode": {
    "name": "ipython",
    "version": 3
   },
   "file_extension": ".py",
   "mimetype": "text/x-python",
   "name": "python",
   "nbconvert_exporter": "python",
   "pygments_lexer": "ipython3",
   "version": "3.12.7"
  }
 },
 "nbformat": 4,
 "nbformat_minor": 5
}
