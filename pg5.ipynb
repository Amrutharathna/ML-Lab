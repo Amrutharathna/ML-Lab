{
 "cells": [
  {
   "cell_type": "code",
   "execution_count": 3,
   "id": "6381053b-f7c6-4e0d-ae81-3f884ab728f2",
   "metadata": {},
   "outputs": [
    {
     "name": "stdout",
     "output_type": "stream",
     "text": [
      "Size of dataset is:  768\n",
      "537\n",
      "{1: [(4.864130434782608, 3.8408241807280614), (141.69021739130434, 32.02998444860096), (72.07065217391305, 19.67413235000086), (22.777173913043477, 17.760991229543688), (101.06521739130434, 132.4318820138224), (35.57826086956522, 7.253833749316477), (0.5519565217391305, 0.38092944753713953), (36.89673913043478, 11.063413351750196)], 0: [(3.3909348441926346, 3.0348594917964826), (109.96600566572238, 25.940688033429165), (69.12747875354107, 17.21878462346714), (19.560906515580736, 15.161717313786314), (70.77620396600567, 100.07044848212097), (30.294617563739376, 7.632987577362347), (0.4129178470254958, 0.26216210188265837), (31.60339943342776, 11.607021278367545)]}\n",
      "Accuracy:  72.2943722943723\n"
     ]
    }
   ],
   "source": [
    "import csv \n",
    "import math \n",
    "import random \n",
    "import statistics\n",
    "\n",
    "def cal_probability(x,mean,stdev):\n",
    "    exponent=math.exp(-(math.pow(x-mean,2)/(2*math.pow(stdev,2))))\n",
    "    return(1/(math.sqrt(2*math.pi)*stdev))*exponent\n",
    "\n",
    "dataset=[] \n",
    "dataset_size=0\n",
    "\n",
    "with open('lab5.csv') as csvfile:\n",
    "    lines=csv.reader(csvfile)\n",
    "    for row in lines:\n",
    "        dataset.append([float(attr) for attr in row]) \n",
    "\n",
    "\n",
    "dataset_size=len(dataset)\n",
    "print(\"Size of dataset is: \",dataset_size)\n",
    "train_size=int(0.7*dataset_size) \n",
    "print(train_size)\n",
    "X_train=[] \n",
    "X_test=dataset.copy()\n",
    "\n",
    "training_indexes=random.sample(range(dataset_size),train_size)\n",
    "for i in training_indexes: \n",
    "    X_train.append(dataset[i]) \n",
    "    X_test.remove(dataset[i])\n",
    "\n",
    "classes={}\n",
    "for samples in X_train: \n",
    "    last=int(samples[-1]) \n",
    "    if last not in classes:\n",
    "        classes[last]=[] \n",
    "    classes[last].append(samples)\n",
    "# print(classes) \n",
    "summaries={}\n",
    "\n",
    "for classValue,training_data in classes.items(): \n",
    "    summary=[(statistics.mean(attribute),statistics.stdev(attribute)) for attribute in zip(*training_data)] \n",
    "    del summary[-1]\n",
    "    summaries[classValue]=summary\n",
    "print(summaries) \n",
    "\n",
    "X_prediction=[]\n",
    "\n",
    "\n",
    "\n",
    "\n",
    "for i in X_test: \n",
    "    probabilities={}\n",
    "    for classValue,classSummary in summaries.items(): \n",
    "        probabilities[classValue]=1 \n",
    "        for index,attr in enumerate(classSummary): \n",
    "            probabilities[classValue]*=cal_probability(i[index],attr[0],attr[1])\n",
    "\t\n",
    "    best_label,best_prob=None,-1\n",
    "    for classValue,probability in probabilities.items(): \n",
    "        if best_label is None or probability>best_prob:\n",
    "            best_prob=probability \n",
    "            best_label=classValue \n",
    "    X_prediction.append(best_label)\n",
    "\n",
    "correct=0\n",
    "for index,key in enumerate(X_test):\n",
    "   if X_test[index][-1]==X_prediction[index]: \n",
    "        correct+=1\n",
    "print(\"Accuracy: \",correct/(float(len(X_test)))*100)\n"
   ]
  },
  {
   "cell_type": "code",
   "execution_count": null,
   "id": "7b8940ad-e938-47f2-96da-5f5a84d1cce5",
   "metadata": {},
   "outputs": [],
   "source": []
  }
 ],
 "metadata": {
  "kernelspec": {
   "display_name": "Python [conda env:base] *",
   "language": "python",
   "name": "conda-base-py"
  },
  "language_info": {
   "codemirror_mode": {
    "name": "ipython",
    "version": 3
   },
   "file_extension": ".py",
   "mimetype": "text/x-python",
   "name": "python",
   "nbconvert_exporter": "python",
   "pygments_lexer": "ipython3",
   "version": "3.12.7"
  }
 },
 "nbformat": 4,
 "nbformat_minor": 5
}
